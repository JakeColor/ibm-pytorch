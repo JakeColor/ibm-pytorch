{
  "nbformat": 4,
  "nbformat_minor": 0,
  "metadata": {
    "kernelspec": {
      "display_name": "Python 3",
      "language": "python",
      "name": "python3"
    },
    "language_info": {
      "codemirror_mode": {
        "name": "ipython",
        "version": 3
      },
      "file_extension": ".py",
      "mimetype": "text/x-python",
      "name": "python",
      "nbconvert_exporter": "python",
      "pygments_lexer": "ipython3",
      "version": "3.6.8"
    },
    "colab": {
      "name": "lab2.1.ipynb",
      "provenance": []
    }
  },
  "cells": [
    {
      "cell_type": "markdown",
      "metadata": {
        "id": "rELURcVTFP2k"
      },
      "source": [
        "<h1>Linear Regression 1D: Prediction</h1>\n"
      ]
    },
    {
      "cell_type": "markdown",
      "metadata": {
        "id": "VXitUj00FP2k"
      },
      "source": [
        "<h2>Objective</h2><ul><li> How to make the prediction for multiple inputs.</li><li> How to use linear class to build more complex models.</li><li> How to build a custom module.</li></ul> \n"
      ]
    },
    {
      "cell_type": "markdown",
      "metadata": {
        "id": "spUMsBZMFP2l"
      },
      "source": [
        "<h2>Table of Contents</h2>\n",
        "<p>In this lab, we will  review how to make a prediction in several different ways by using PyTorch.</h2>\n",
        "<ul>\n",
        "    <li><a href=\"#Prediction\">Prediction</a></li>\n",
        "    <li><a href=\"#Linear\">Class Linear</a></li>\n",
        "    <li><a href=\"#Cust\">Build Custom Modules</a></li>\n",
        "</ul>\n",
        "<p>Estimated Time Needed: <strong>15 min</strong></p>\n",
        "\n",
        "<hr>\n"
      ]
    },
    {
      "cell_type": "markdown",
      "metadata": {
        "id": "83UyCDX7FP2m"
      },
      "source": [
        "<h2>Preparation</h2>\n"
      ]
    },
    {
      "cell_type": "markdown",
      "metadata": {
        "id": "3x6qY88EFP2m"
      },
      "source": [
        "The following are the libraries we are going to use for this lab.\n"
      ]
    },
    {
      "cell_type": "code",
      "metadata": {
        "id": "7KM3vC6hFP2m"
      },
      "source": [
        "# These are the libraries will be used for this lab.\n",
        "\n",
        "import torch"
      ],
      "execution_count": 1,
      "outputs": []
    },
    {
      "cell_type": "markdown",
      "metadata": {
        "id": "C2lSX7cAFP2m"
      },
      "source": [
        "<!--Empty Space for separating topics-->\n"
      ]
    },
    {
      "cell_type": "markdown",
      "metadata": {
        "id": "LV475wpuFP2m"
      },
      "source": [
        "<h2 id=\"Prediction\">Prediction</h2>\n"
      ]
    },
    {
      "cell_type": "markdown",
      "metadata": {
        "id": "LmLNxw1-FP2m"
      },
      "source": [
        "Let us create the following expressions:\n"
      ]
    },
    {
      "cell_type": "markdown",
      "metadata": {
        "id": "NfkveZ7lFP2m"
      },
      "source": [
        "$b=-1,w=2$\n",
        "\n",
        "$\\hat{y}=-1+2x$\n"
      ]
    },
    {
      "cell_type": "markdown",
      "metadata": {
        "id": "jm4Md2NBFP2m"
      },
      "source": [
        "First, define the parameters:\n"
      ]
    },
    {
      "cell_type": "code",
      "metadata": {
        "id": "3r22juHTFP2n"
      },
      "source": [
        "# Define w = 2 and b = -1 for y = wx + b\n",
        "\n",
        "w = torch.tensor(2.0, requires_grad = True)\n",
        "b = torch.tensor(-1.0, requires_grad = True)"
      ],
      "execution_count": 2,
      "outputs": []
    },
    {
      "cell_type": "markdown",
      "metadata": {
        "id": "8Zj1Wb8aFP2n"
      },
      "source": [
        "Then, define the function <code>forward(x, w, b)</code> makes the prediction: \n"
      ]
    },
    {
      "cell_type": "code",
      "metadata": {
        "id": "4jqeIgRiFP2n"
      },
      "source": [
        "# Function forward(x) for prediction\n",
        "\n",
        "def forward(x):\n",
        "    yhat = w * x + b\n",
        "    return yhat"
      ],
      "execution_count": 3,
      "outputs": []
    },
    {
      "cell_type": "markdown",
      "metadata": {
        "id": "tUEDIQv5FP2n"
      },
      "source": [
        "Let's make the following prediction at <i>x = 1</i>\n"
      ]
    },
    {
      "cell_type": "markdown",
      "metadata": {
        "id": "4u-ZxUDjFP2n"
      },
      "source": [
        "$\\hat{y}=-1+2x$\n",
        "\n",
        "$\\hat{y}=-1+2(1)$\n"
      ]
    },
    {
      "cell_type": "code",
      "metadata": {
        "id": "DtF0N9ARFP2n",
        "outputId": "f4bd77e1-dcc6-4db1-80da-39c115ab3d5c",
        "colab": {
          "base_uri": "https://localhost:8080/"
        }
      },
      "source": [
        "# Predict y = 2x - 1 at x = 1\n",
        "\n",
        "x = torch.tensor([[1.0]])\n",
        "yhat = forward(x)\n",
        "print(\"The prediction: \", yhat)"
      ],
      "execution_count": 4,
      "outputs": [
        {
          "output_type": "stream",
          "text": [
            "The prediction:  tensor([[1.]], grad_fn=<AddBackward0>)\n"
          ],
          "name": "stdout"
        }
      ]
    },
    {
      "cell_type": "markdown",
      "metadata": {
        "id": "K8SgflETFP2n"
      },
      "source": [
        "<!--Empty Space for separating topics-->\n"
      ]
    },
    {
      "cell_type": "markdown",
      "metadata": {
        "id": "BvLICKHjFP2n"
      },
      "source": [
        "Now, let us try to make the prediction for multiple inputs:\n"
      ]
    },
    {
      "cell_type": "markdown",
      "metadata": {
        "id": "l4kwpx_4FP2n"
      },
      "source": [
        "<img src=\"https://s3-api.us-geo.objectstorage.softlayer.net/cf-courses-data/CognitiveClass/DL0110EN/notebook_images%20/chapter2/2.1.2.png\" width=\"500\" alt=\"Linear Regression Multiple Input Samples\" />\n"
      ]
    },
    {
      "cell_type": "markdown",
      "metadata": {
        "id": "pxZXupdtFP2n"
      },
      "source": [
        "Let us construct the <code>x</code> tensor first. Check the shape of <code>x</code>.\n"
      ]
    },
    {
      "cell_type": "code",
      "metadata": {
        "id": "jXvm8YJOFP2n",
        "outputId": "49813ba4-b863-440b-b6a2-4cbb5ffce610",
        "colab": {
          "base_uri": "https://localhost:8080/"
        }
      },
      "source": [
        "# Create x Tensor and check the shape of x tensor\n",
        "\n",
        "x = torch.tensor([1.0, 2.0]).view(-1,1)\n",
        "print(\"The shape of x: \", x.shape)"
      ],
      "execution_count": 6,
      "outputs": [
        {
          "output_type": "stream",
          "text": [
            "The shape of x:  torch.Size([2, 1])\n"
          ],
          "name": "stdout"
        }
      ]
    },
    {
      "cell_type": "markdown",
      "metadata": {
        "id": "BjtoTwx_FP2n"
      },
      "source": [
        "Now make the prediction: \n"
      ]
    },
    {
      "cell_type": "code",
      "metadata": {
        "id": "jMzcf0wLFP2n",
        "outputId": "75c007c5-ca6c-48e6-bb23-7fe2c874308a",
        "colab": {
          "base_uri": "https://localhost:8080/"
        }
      },
      "source": [
        "# Make the prediction of y = 2x - 1 at x = [1, 2]\n",
        "\n",
        "yhat = forward(x)\n",
        "print(\"The prediction: \", yhat)"
      ],
      "execution_count": 7,
      "outputs": [
        {
          "output_type": "stream",
          "text": [
            "The prediction:  tensor([[1.],\n",
            "        [3.]], grad_fn=<AddBackward0>)\n"
          ],
          "name": "stdout"
        }
      ]
    },
    {
      "cell_type": "markdown",
      "metadata": {
        "id": "manaCeoeFP2n"
      },
      "source": [
        "The result is the same as what it is in the image above.\n"
      ]
    },
    {
      "cell_type": "markdown",
      "metadata": {
        "id": "8T6V_2YLFP2n"
      },
      "source": [
        "<!--Empty Space for separating topics-->\n"
      ]
    },
    {
      "cell_type": "markdown",
      "metadata": {
        "id": "evzIPVgPFP2n"
      },
      "source": [
        "<h3>Practice</h3>\n"
      ]
    },
    {
      "cell_type": "markdown",
      "metadata": {
        "id": "myPoI9dGFP2n"
      },
      "source": [
        "Make a prediction of the following <code>x</code> tensor using the <code>w</code> and <code>b</code> from above.\n"
      ]
    },
    {
      "cell_type": "code",
      "metadata": {
        "id": "_oF6Y6v1FP2n",
        "outputId": "7ba406fe-cda7-4be2-bec5-d31aabd17f62",
        "colab": {
          "base_uri": "https://localhost:8080/"
        }
      },
      "source": [
        "# Practice: Make a prediction of y = 2x - 1 at x = [[1.0], [2.0], [3.0]]\n",
        "\n",
        "x = torch.tensor([[1.0], [2.0], [3.0]])\n",
        "yhat = forward(x)\n",
        "print(\"The prediction: \", yhat)"
      ],
      "execution_count": 8,
      "outputs": [
        {
          "output_type": "stream",
          "text": [
            "The prediction:  tensor([[1.],\n",
            "        [3.],\n",
            "        [5.]], grad_fn=<AddBackward0>)\n"
          ],
          "name": "stdout"
        }
      ]
    },
    {
      "cell_type": "markdown",
      "metadata": {
        "id": "wOPCHihNFP2n"
      },
      "source": [
        "Double-click <b>here</b> for the solution.\n",
        "\n",
        "<!-- Your answer is below:\n",
        "yhat = forward(x)\n",
        "print(\"The prediction: \", yhat)\n",
        "-->\n"
      ]
    },
    {
      "cell_type": "markdown",
      "metadata": {
        "id": "daVWB3KMFP2n"
      },
      "source": [
        "<!--Empty Space for separating topics-->\n"
      ]
    },
    {
      "cell_type": "markdown",
      "metadata": {
        "id": "HwBPFfeBFP2n"
      },
      "source": [
        "<h2 id=\"Linear\">Class Linear</h2>\n"
      ]
    },
    {
      "cell_type": "markdown",
      "metadata": {
        "id": "Bv77r6v7FP2n"
      },
      "source": [
        "The linear class can be used to make a prediction. We can also use the linear class to build more complex models. Let's import the module:\n"
      ]
    },
    {
      "cell_type": "code",
      "metadata": {
        "id": "sHjvuWwOFP2n"
      },
      "source": [
        "# Import Class Linear\n",
        "\n",
        "from torch.nn import Linear"
      ],
      "execution_count": 9,
      "outputs": []
    },
    {
      "cell_type": "markdown",
      "metadata": {
        "id": "fPXm8M8WFP2n"
      },
      "source": [
        "Set the random seed because the parameters are randomly initialized:\n"
      ]
    },
    {
      "cell_type": "code",
      "metadata": {
        "id": "mBkwZxPxFP2n",
        "outputId": "fa465107-0e8c-4a62-cb8a-956d0efc198f",
        "colab": {
          "base_uri": "https://localhost:8080/"
        }
      },
      "source": [
        "# Set random seed\n",
        "torch.manual_seed(1)"
      ],
      "execution_count": 10,
      "outputs": [
        {
          "output_type": "execute_result",
          "data": {
            "text/plain": [
              "<torch._C.Generator at 0x7f84f628fb10>"
            ]
          },
          "metadata": {
            "tags": []
          },
          "execution_count": 10
        }
      ]
    },
    {
      "cell_type": "markdown",
      "metadata": {
        "id": "lTNE_hCfFP2n"
      },
      "source": [
        "<!--Empty Space for separating topics-->\n"
      ]
    },
    {
      "cell_type": "markdown",
      "metadata": {
        "id": "OeOjbhfEFP2n"
      },
      "source": [
        "Let us create the linear object by using the constructor. The parameters are randomly created. Let us print out to see what <i>w</i> and <i>b</i>. The parameters of an <code>torch.nn.Module</code> model are contained in the model’s parameters accessed with <code>lr.parameters()</code>:\n"
      ]
    },
    {
      "cell_type": "code",
      "metadata": {
        "id": "tLKuCuhtFP2n",
        "outputId": "4ee662f7-c250-4679-9f21-e19f1cbcc7b4",
        "colab": {
          "base_uri": "https://localhost:8080/"
        }
      },
      "source": [
        "lr = Linear(in_features=1, out_features=1, bias=True)\n",
        "print(\"Parameters w and b: \", list(lr.parameters()))"
      ],
      "execution_count": 11,
      "outputs": [
        {
          "output_type": "stream",
          "text": [
            "Parameters w and b:  [Parameter containing:\n",
            "tensor([[0.5153]], requires_grad=True), Parameter containing:\n",
            "tensor([-0.4414], requires_grad=True)]\n"
          ],
          "name": "stdout"
        }
      ]
    },
    {
      "cell_type": "markdown",
      "metadata": {
        "id": "PU9VawN9FP2n"
      },
      "source": [
        "This is equivalent to the following expression:  \n"
      ]
    },
    {
      "cell_type": "markdown",
      "metadata": {
        "id": "kl05i9DJFP2n"
      },
      "source": [
        "$b=-0.44, w=0.5153$\n",
        "\n",
        "$\\hat{y}=-0.44+0.5153x$\n"
      ]
    },
    {
      "cell_type": "markdown",
      "metadata": {
        "id": "YmioFD6KFP2n"
      },
      "source": [
        "A method  <code>state_dict()</code> Returns a Python dictionary object corresponding to the layers of each parameter  tensor. \n"
      ]
    },
    {
      "cell_type": "code",
      "metadata": {
        "id": "uE2HpuQqFP2n",
        "outputId": "e01da7ae-5286-45ad-f98a-3a73e5a9144c",
        "colab": {
          "base_uri": "https://localhost:8080/"
        }
      },
      "source": [
        "print(\"Python dictionary: \",lr.state_dict())\n",
        "print(\"keys: \",lr.state_dict().keys())\n",
        "print(\"values: \",lr.state_dict().values())"
      ],
      "execution_count": 12,
      "outputs": [
        {
          "output_type": "stream",
          "text": [
            "Python dictionary:  OrderedDict([('weight', tensor([[0.5153]])), ('bias', tensor([-0.4414]))])\n",
            "keys:  odict_keys(['weight', 'bias'])\n",
            "values:  odict_values([tensor([[0.5153]]), tensor([-0.4414])])\n"
          ],
          "name": "stdout"
        }
      ]
    },
    {
      "cell_type": "markdown",
      "metadata": {
        "id": "sftLqCZ2FP2n"
      },
      "source": [
        "The keys correspond to the name of the attributes and the values correspond to the parameter value.\n"
      ]
    },
    {
      "cell_type": "code",
      "metadata": {
        "id": "fdOXDquPFP2n",
        "outputId": "b939b9a7-92d7-444d-8dae-0c201a2164c2",
        "colab": {
          "base_uri": "https://localhost:8080/"
        }
      },
      "source": [
        "print(\"weight:\",lr.weight)\n",
        "print(\"bias:\",lr.bias)"
      ],
      "execution_count": 13,
      "outputs": [
        {
          "output_type": "stream",
          "text": [
            "weight: Parameter containing:\n",
            "tensor([[0.5153]], requires_grad=True)\n",
            "bias: Parameter containing:\n",
            "tensor([-0.4414], requires_grad=True)\n"
          ],
          "name": "stdout"
        }
      ]
    },
    {
      "cell_type": "markdown",
      "metadata": {
        "id": "7I3kF9QiFP2n"
      },
      "source": [
        "Now let us make a single prediction at <i>x = \\[[1.0]]</i>.\n"
      ]
    },
    {
      "cell_type": "code",
      "metadata": {
        "id": "g_nG6HSYFP2n",
        "outputId": "3dbb1d81-da10-4d00-e278-57df1181fe3b",
        "colab": {
          "base_uri": "https://localhost:8080/"
        }
      },
      "source": [
        "# Make the prediction at x = [[1.0]]\n",
        "\n",
        "x = torch.tensor([[1.0]])\n",
        "yhat = lr(x)\n",
        "print(\"The prediction: \", yhat)"
      ],
      "execution_count": 14,
      "outputs": [
        {
          "output_type": "stream",
          "text": [
            "The prediction:  tensor([[0.0739]], grad_fn=<AddmmBackward>)\n"
          ],
          "name": "stdout"
        }
      ]
    },
    {
      "cell_type": "markdown",
      "metadata": {
        "id": "8HASdj-iFP2n"
      },
      "source": [
        "<!--Empty Space for separating topics-->\n"
      ]
    },
    {
      "cell_type": "markdown",
      "metadata": {
        "id": "7x4udsI-FP2n"
      },
      "source": [
        "Similarly, you can make multiple predictions:\n"
      ]
    },
    {
      "cell_type": "markdown",
      "metadata": {
        "id": "FTmM-OiMFP2n"
      },
      "source": [
        "<img src=\"https://s3-api.us-geo.objectstorage.softlayer.net/cf-courses-data/CognitiveClass/DL0110EN/notebook_images%20/chapter2/2.1.2vector_function.png\" width=\"500\" alt=\"Linear Class Sample with Multiple Inputs\" />\n"
      ]
    },
    {
      "cell_type": "markdown",
      "metadata": {
        "id": "1sJ3S9bHFP2n"
      },
      "source": [
        "Use model <code>lr(x)</code> to predict the result.\n"
      ]
    },
    {
      "cell_type": "code",
      "metadata": {
        "id": "x1NzJiSNFP2n",
        "outputId": "1b1d92f4-b7ad-4822-f825-47b6e6de24c4",
        "colab": {
          "base_uri": "https://localhost:8080/"
        }
      },
      "source": [
        "# Create the prediction using linear model\n",
        "\n",
        "x = torch.tensor([[1.0], [2.0]])\n",
        "yhat = lr(x)\n",
        "print(\"The prediction: \", yhat)"
      ],
      "execution_count": 15,
      "outputs": [
        {
          "output_type": "stream",
          "text": [
            "The prediction:  tensor([[0.0739],\n",
            "        [0.5891]], grad_fn=<AddmmBackward>)\n"
          ],
          "name": "stdout"
        }
      ]
    },
    {
      "cell_type": "markdown",
      "metadata": {
        "id": "5hM4n2DgFP2n"
      },
      "source": [
        "<!--Empty Space for separating topics-->\n"
      ]
    },
    {
      "cell_type": "markdown",
      "metadata": {
        "id": "GLa2nkoeFP2n"
      },
      "source": [
        "<h3>Practice</h3>\n"
      ]
    },
    {
      "cell_type": "markdown",
      "metadata": {
        "id": "4WP7NoB3FP2n"
      },
      "source": [
        "Make a prediction of the following <code>x</code> tensor using the linear regression model <code>lr</code>.\n"
      ]
    },
    {
      "cell_type": "code",
      "metadata": {
        "id": "PYpcrXZsFP2n",
        "outputId": "33942bd2-6073-4871-e6a6-42ea60b60673",
        "colab": {
          "base_uri": "https://localhost:8080/"
        }
      },
      "source": [
        "# Practice: Use the linear regression model object lr to make the prediction.\n",
        "\n",
        "x = torch.tensor([[1.0],[2.0],[3.0]])\n",
        "yhat = lr(x)\n",
        "print(\"The prediction: \", yhat)"
      ],
      "execution_count": 16,
      "outputs": [
        {
          "output_type": "stream",
          "text": [
            "The prediction:  tensor([[0.0739],\n",
            "        [0.5891],\n",
            "        [1.1044]], grad_fn=<AddmmBackward>)\n"
          ],
          "name": "stdout"
        }
      ]
    },
    {
      "cell_type": "markdown",
      "metadata": {
        "id": "nCp-dEg5FP2n"
      },
      "source": [
        "Double-click <b>here</b> for the solution.\n",
        "\n",
        "<!-- Your answer is below:\n",
        "x=torch.tensor([[1.0],[2.0],[3.0]])\n",
        "yhat = lr(x)\n",
        "print(\"The prediction: \", yhat)\n",
        "-->\n"
      ]
    },
    {
      "cell_type": "markdown",
      "metadata": {
        "id": "ReT_BRDAFP2n"
      },
      "source": [
        "<!--Empty Space for separating topics-->\n"
      ]
    },
    {
      "cell_type": "markdown",
      "metadata": {
        "id": "He_Bc1iUFP2n"
      },
      "source": [
        "<h2 id=\"Cust\">Build Custom Modules</h2>\n"
      ]
    },
    {
      "cell_type": "markdown",
      "metadata": {
        "id": "fUOimzPqFP2n"
      },
      "source": [
        "Now, let's build a custom module. We can make more complex models by using this method later on. \n"
      ]
    },
    {
      "cell_type": "markdown",
      "metadata": {
        "id": "isJK9nZbFP2n"
      },
      "source": [
        "First, import the following library.\n"
      ]
    },
    {
      "cell_type": "code",
      "metadata": {
        "id": "tnsEk9QyFP2n"
      },
      "source": [
        "# Library for this section\n",
        "\n",
        "from torch import nn"
      ],
      "execution_count": 17,
      "outputs": []
    },
    {
      "cell_type": "markdown",
      "metadata": {
        "id": "J5x9wdKnFP2n"
      },
      "source": [
        "Now, let us define the class: \n"
      ]
    },
    {
      "cell_type": "code",
      "metadata": {
        "id": "Q7AEzzQOFP2n"
      },
      "source": [
        "# Customize Linear Regression Class\n",
        "\n",
        "class LR(nn.Module):\n",
        "    \n",
        "    # Constructor\n",
        "    def __init__(self, input_size, output_size):\n",
        "        \n",
        "        # Inherit from parent\n",
        "        super(LR, self).__init__()\n",
        "        self.linear = nn.Linear(input_size, output_size)\n",
        "    \n",
        "    # Prediction function\n",
        "    def forward(self, x):\n",
        "        out = self.linear(x)\n",
        "        return out"
      ],
      "execution_count": 18,
      "outputs": []
    },
    {
      "cell_type": "markdown",
      "metadata": {
        "id": "Lmktjs5mFP2o"
      },
      "source": [
        "Create an object by using the constructor. Print out the parameters we get and the model.\n"
      ]
    },
    {
      "cell_type": "code",
      "metadata": {
        "id": "TEGzqkd3FP2o",
        "outputId": "3ef78dea-79e0-419b-ee97-6053891b3348",
        "colab": {
          "base_uri": "https://localhost:8080/"
        }
      },
      "source": [
        "# Create the linear regression model. Print out the parameters.\n",
        "\n",
        "lr = LR(1, 1)\n",
        "print(\"The parameters: \", list(lr.parameters()))\n",
        "print(\"Linear model: \", lr.linear)"
      ],
      "execution_count": 19,
      "outputs": [
        {
          "output_type": "stream",
          "text": [
            "The parameters:  [Parameter containing:\n",
            "tensor([[-0.1939]], requires_grad=True), Parameter containing:\n",
            "tensor([0.4694], requires_grad=True)]\n",
            "Linear model:  Linear(in_features=1, out_features=1, bias=True)\n"
          ],
          "name": "stdout"
        }
      ]
    },
    {
      "cell_type": "markdown",
      "metadata": {
        "id": "ssq1Ygj7FP2o"
      },
      "source": [
        "<!--Empty Space for separating topics-->\n"
      ]
    },
    {
      "cell_type": "markdown",
      "metadata": {
        "id": "kQwfrRZZFP2o"
      },
      "source": [
        "Let us try to make a prediction of a single input sample.\n"
      ]
    },
    {
      "cell_type": "code",
      "metadata": {
        "id": "xZbR6KbjFP2o",
        "outputId": "76c9c35a-980b-480e-bd90-6de447c58474",
        "colab": {
          "base_uri": "https://localhost:8080/"
        }
      },
      "source": [
        "# Try our customize linear regression model with single input\n",
        "\n",
        "x = torch.tensor([[1.0]])\n",
        "yhat = lr(x)\n",
        "print(\"The prediction: \", yhat)"
      ],
      "execution_count": 20,
      "outputs": [
        {
          "output_type": "stream",
          "text": [
            "The prediction:  tensor([[0.2755]], grad_fn=<AddmmBackward>)\n"
          ],
          "name": "stdout"
        }
      ]
    },
    {
      "cell_type": "markdown",
      "metadata": {
        "id": "HE6KE1zKFP2o"
      },
      "source": [
        "<!--Empty Space for separating topics-->\n"
      ]
    },
    {
      "cell_type": "markdown",
      "metadata": {
        "id": "_PLJVIbaFP2o"
      },
      "source": [
        "Now, let us try another example with multiple samples.\n"
      ]
    },
    {
      "cell_type": "code",
      "metadata": {
        "id": "ae8V7e_YFP2o",
        "outputId": "885f9685-f9c2-4665-d893-8b25bd639bf5",
        "colab": {
          "base_uri": "https://localhost:8080/"
        }
      },
      "source": [
        "# Try our customize linear regression model with multiple input\n",
        "\n",
        "x = torch.tensor([[1.0], [2.0]])\n",
        "yhat = lr(x)\n",
        "print(\"The prediction: \", yhat)"
      ],
      "execution_count": 21,
      "outputs": [
        {
          "output_type": "stream",
          "text": [
            "The prediction:  tensor([[0.2755],\n",
            "        [0.0816]], grad_fn=<AddmmBackward>)\n"
          ],
          "name": "stdout"
        }
      ]
    },
    {
      "cell_type": "markdown",
      "metadata": {
        "id": "kQU7lrqkFP2o"
      },
      "source": [
        "the parameters are also stored in an ordered dictionary :\n"
      ]
    },
    {
      "cell_type": "code",
      "metadata": {
        "id": "D2PPqbEpFP2o",
        "outputId": "dee3a1f9-395a-4992-c32e-17bf8f1051df",
        "colab": {
          "base_uri": "https://localhost:8080/"
        }
      },
      "source": [
        "print(\"Python dictionary: \", lr.state_dict())\n",
        "print(\"keys: \",lr.state_dict().keys())\n",
        "print(\"values: \",lr.state_dict().values())\n"
      ],
      "execution_count": 22,
      "outputs": [
        {
          "output_type": "stream",
          "text": [
            "Python dictionary:  OrderedDict([('linear.weight', tensor([[-0.1939]])), ('linear.bias', tensor([0.4694]))])\n",
            "keys:  odict_keys(['linear.weight', 'linear.bias'])\n",
            "values:  odict_values([tensor([[-0.1939]]), tensor([0.4694])])\n"
          ],
          "name": "stdout"
        }
      ]
    },
    {
      "cell_type": "markdown",
      "metadata": {
        "id": "fQGrIgoiFP2o"
      },
      "source": [
        "<!--Empty Space for separating topics-->\n"
      ]
    },
    {
      "cell_type": "markdown",
      "metadata": {
        "id": "aaxDGu3jFP2o"
      },
      "source": [
        "<h3>Practice</h3>\n"
      ]
    },
    {
      "cell_type": "markdown",
      "metadata": {
        "id": "XsYJBeTFFP2o"
      },
      "source": [
        "Create an object <code>lr1</code> from the class we created before and make a prediction by using the following tensor: \n"
      ]
    },
    {
      "cell_type": "code",
      "metadata": {
        "id": "7uRw0G0-FP2o",
        "outputId": "89f4bdc7-bffc-42fe-c854-bcb868d2adc7",
        "colab": {
          "base_uri": "https://localhost:8080/"
        }
      },
      "source": [
        "# Practice: Use the LR class to create a model and make a prediction of the following tensor.\n",
        "\n",
        "x = torch.tensor([[1.0], [2.0], [3.0]])\n",
        "lr = LR(1, 1)\n",
        "yhat = lr(x)\n",
        "print(\"The prediction: \", yhat)"
      ],
      "execution_count": 23,
      "outputs": [
        {
          "output_type": "stream",
          "text": [
            "The prediction:  tensor([[-0.3417],\n",
            "        [-1.2832],\n",
            "        [-2.2246]], grad_fn=<AddmmBackward>)\n"
          ],
          "name": "stdout"
        }
      ]
    },
    {
      "cell_type": "markdown",
      "metadata": {
        "id": "_SaHZBb0FP2o"
      },
      "source": [
        "Double-click <b>here</b> for the solution.\n",
        "\n",
        "<!-- Your answer is below:\n",
        "x=torch.tensor([[1.0],[2.0],[3.0]])\n",
        "lr1=LR(1,1)\n",
        "yhat=lr(x)\n",
        "yhat\n",
        "-->\n"
      ]
    },
    {
      "cell_type": "markdown",
      "metadata": {
        "id": "k335ax_4FP2o"
      },
      "source": [
        " <!-- Your answer is below:\n",
        "x=torch.tensor([[1.0],[2.0],[3.0]])\n",
        "lr1=LR(1,1)\n",
        "yhat=lr1(x)\n",
        "yhat\n",
        "-->\n"
      ]
    },
    {
      "cell_type": "markdown",
      "metadata": {
        "id": "RTlKU01KFP2o"
      },
      "source": [
        "<h2>About the Authors:</h2> \n",
        "\n",
        "<a href=\"https://www.linkedin.com/in/joseph-s-50398b136/\">Joseph Santarcangelo</a> has a PhD in Electrical Engineering, his research focused on using machine learning, signal processing, and computer vision to determine how videos impact human cognition. Joseph has been working for IBM since he completed his PhD.\n"
      ]
    },
    {
      "cell_type": "markdown",
      "metadata": {
        "id": "F-7dEpN7FP2o"
      },
      "source": [
        "Other contributors: <a href=\"https://www.linkedin.com/in/michelleccarey/\">Michelle Carey</a>, <a href=\"www.linkedin.com/in/jiahui-mavis-zhou-a4537814a\">Mavis Zhou</a> \n"
      ]
    },
    {
      "cell_type": "markdown",
      "metadata": {
        "id": "QNrqVBwBFP2o"
      },
      "source": [
        "## Change Log\n",
        "\n",
        "| Date (YYYY-MM-DD) | Version | Changed By | Change Description                                          |\n",
        "| ----------------- | ------- | ---------- | ----------------------------------------------------------- |\n",
        "| 2020-09-21        | 2.0     | Shubham    | Migrated Lab to Markdown and added to course repo in GitLab |\n"
      ]
    },
    {
      "cell_type": "markdown",
      "metadata": {
        "id": "Urlz2z3AFP2o"
      },
      "source": [
        "<hr>\n"
      ]
    },
    {
      "cell_type": "markdown",
      "metadata": {
        "id": "7fRl16hRFP2o"
      },
      "source": [
        "Copyright © 2018 <a href=\"cognitiveclass.ai?utm_source=bducopyrightlink&utm_medium=dswb&utm_campaign=bdu\">cognitiveclass.ai</a>. This notebook and its source code are released under the terms of the <a href=\"https://bigdatauniversity.com/mit-license/\">MIT License</a>.\n"
      ]
    }
  ]
}