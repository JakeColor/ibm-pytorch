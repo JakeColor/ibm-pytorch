{
  "nbformat": 4,
  "nbformat_minor": 0,
  "metadata": {
    "colab": {
      "name": "PyTorch Training Template.ipynb",
      "provenance": [],
      "authorship_tag": "ABX9TyPY5/zCmjpm6cfXK121yl+3"
    },
    "kernelspec": {
      "name": "python3",
      "display_name": "Python 3"
    }
  },
  "cells": [
    {
      "cell_type": "markdown",
      "metadata": {
        "id": "2JdeyRhjC-Jt"
      },
      "source": [
        "#### Dependencies"
      ]
    },
    {
      "cell_type": "code",
      "metadata": {
        "id": "ACeZOl5zCGdN"
      },
      "source": [
        "import torch \n",
        "import torch.nn as nn\n",
        "import torchvision.transforms as transforms\n",
        "import torchvision.datasets as dsets\n",
        "import matplotlib.pylab as plt\n",
        "\n",
        "import numpy as np\n",
        "import pandas as pd"
      ],
      "execution_count": null,
      "outputs": []
    },
    {
      "cell_type": "code",
      "metadata": {
        "id": "tA3UzcrKCLwz"
      },
      "source": [
        "learning_rate=0.001\n",
        "optimizer = torch.optim.Adam(model.parameters(), lr=learning_rate)\n",
        "\n",
        "train_loader=torch.utils.data.DataLoader(dataset=train_dataset,batch_size=10)\n",
        "validation_loader=torch.utils.data.DataLoader(dataset=validation_dataset,batch_size=20)"
      ],
      "execution_count": null,
      "outputs": []
    },
    {
      "cell_type": "markdown",
      "metadata": {
        "id": "Kj_-grHQDCDg"
      },
      "source": [
        "## Model Definition"
      ]
    },
    {
      "cell_type": "code",
      "metadata": {
        "id": "rlaMtTsqCeIl"
      },
      "source": [
        "class CNN(nn.Module):\n",
        "    def __init__(self,out_1=2,out_2=1):\n",
        "        \n",
        "        super(CNN,self).__init__()\n",
        "        #first Convolutional layers \n",
        "        self.cnn1=nn.Conv2d(in_channels=1,out_channels=out_1,kernel_size=2,padding=0)\n",
        "        self.maxpool1=nn.MaxPool2d(kernel_size=2 ,stride=1)\n",
        "\n",
        "        #second Convolutional layers\n",
        "        self.cnn2=nn.Conv2d(in_channels=out_1,out_channels=out_2,kernel_size=2,stride=1,padding=0)\n",
        "        self.maxpool2=nn.MaxPool2d(kernel_size=2 ,stride=1)\n",
        "\n",
        "        #fully connected layer \n",
        "        self.fc1=nn.Linear(out_2*7*7,2)\n",
        "        \n",
        "    def forward(self,x):\n",
        "        x=self.cnn1(x)\n",
        "        x=torch.relu(x)  #activation function \n",
        "        x=self.maxpool1(x)\n",
        "\n",
        "        x=self.cnn2(x)\n",
        "        x=torch.relu(x)\n",
        "        x=self.maxpool2(x)\n",
        " \n",
        "        x=x.view(x.size(0),-1)\n",
        "        x=self.fc1(x)\n",
        "\n",
        "        return x"
      ],
      "execution_count": null,
      "outputs": []
    },
    {
      "cell_type": "code",
      "metadata": {
        "id": "p19ZVMoECy2c"
      },
      "source": [
        "model=CNN(2,1)"
      ],
      "execution_count": null,
      "outputs": []
    },
    {
      "cell_type": "markdown",
      "metadata": {
        "id": "swihOw6IC5BL"
      },
      "source": [
        "## Model Train"
      ]
    },
    {
      "cell_type": "code",
      "metadata": {
        "id": "KMDgvyldDM_P"
      },
      "source": [
        "def train_model(model, trainloader, optimizer, epochs=10):\n",
        "    costs = []\n",
        "    cost = 0\n",
        "    accuracies = []\n",
        "    \n",
        "    for epoch in range(epochs):\n",
        "        for x, y in trainloader:\n",
        "            optimizer.zero_grad()  # zero the gradients before running the backward pass\n",
        "\n",
        "            z = model(x)\n",
        "            loss = criterion(yhat, y)\n",
        "            loss.backward()  # compute gradient of the loss wrt all learnable params\n",
        "          \n",
        "            optimizer.step()\n",
        "            cost+=loss.item()\n",
        "            costs.append(cost)\n",
        "\n",
        "        correct=0\n",
        "\n",
        "        for x_test, y_test in validation_loader:\n",
        "            z = model(x_test)\n",
        "            _, yhat = torch.max(z.data,1)\n",
        "            correct += (yhat==y_test).sum().item()\n",
        "\n",
        "            n = list(y_test.size())[0]\n",
        "            accuracy = correct/n\n",
        "\n",
        "            accuracies.append(accuracy)\n",
        "\n",
        "    return costs"
      ],
      "execution_count": null,
      "outputs": []
    }
  ]
}